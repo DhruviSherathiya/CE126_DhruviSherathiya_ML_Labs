{
  "nbformat": 4,
  "nbformat_minor": 0,
  "metadata": {
    "colab": {
      "provenance": [],
      "authorship_tag": "ABX9TyMsB+HlXDb3vqp+6iY14MTX",
      "include_colab_link": true
    },
    "kernelspec": {
      "name": "python3",
      "display_name": "Python 3"
    },
    "language_info": {
      "name": "python"
    }
  },
  "cells": [
    {
      "cell_type": "markdown",
      "metadata": {
        "id": "view-in-github",
        "colab_type": "text"
      },
      "source": [
        "<a href=\"https://colab.research.google.com/github/om-ashish-soni/CE137_ML_LABS/blob/main/ML_LAB11.ipynb\" target=\"_parent\"><img src=\"https://colab.research.google.com/assets/colab-badge.svg\" alt=\"Open In Colab\"/></a>"
      ]
    },
    {
      "cell_type": "markdown",
      "source": [
        "# To perform linear svm on make blob dataset ( 15 minutes ) \n",
        "Task A.1 Tweaking values of C \n",
        "\n",
        "  Observation A.1.1 : \n",
        "    confusion matrix : \n",
        "\n",
        "    tn : 1003 , fp : 0 , fn : 0 , tp : 997\n",
        "\n",
        "    accuracy 1.0\n",
        "\n",
        "    precision 1.0\n",
        "\n",
        "    recall 1.0\n",
        "\n",
        "  Observation A.2.2 : \n",
        "  \n",
        "    tn : 1017 , fp : 1, fn : 1, tp : 981\n",
        "\n",
        "    accuracy 0.999\n",
        "\n",
        "    precision 0.999\n",
        "\n",
        "    recall 0.999\n",
        "\n",
        "\n",
        "\n"
      ],
      "metadata": {
        "id": "iFrIlPfEK8FP"
      }
    },
    {
      "cell_type": "code",
      "execution_count": null,
      "metadata": {
        "id": "uhE__2F_K5rN",
        "colab": {
          "base_uri": "https://localhost:8080/"
        },
        "outputId": "1124ecf3-30bb-4937-9299-96c189bec61f"
      },
      "outputs": [
        {
          "output_type": "stream",
          "name": "stdout",
          "text": [
            "[[ 992    0]\n",
            " [   0 1008]]\n",
            "accuracy 1.0\n",
            "precision 1.0\n",
            "recall 1.0\n"
          ]
        }
      ],
      "source": [
        "from sklearn.datasets import make_blobs\n",
        "from sklearn.svm import SVC\n",
        "from sklearn.model_selection import train_test_split\n",
        "from sklearn.metrics import accuracy_score,confusion_matrix,precision_score,recall_score\n",
        "\n",
        "def measures(y_true,y_pred):\n",
        "  print(confusion_matrix(y_true,y_pred))\n",
        "  return {\n",
        "      \"accuracy\":accuracy_score(y_test,y_pred),\n",
        "      \"precision\":precision_score(y_test,y_pred,average='micro'),\n",
        "      \"recall\":recall_score(y_test,y_pred,average='micro')\n",
        "  }\n",
        "  pass\n",
        "\n",
        "X,y=make_blobs(n_samples=10000,centers=2,n_features=4)\n",
        "X_train,X_test,y_train,y_test=train_test_split(X,y,test_size=0.2,random_state=137)\n",
        "model=SVC(C=200).fit(X_train,y_train)\n",
        "y_pred=model.predict(X_test)\n",
        "\n",
        "metrics=measures(y_test,y_pred)\n",
        "\n",
        "for metric in metrics:\n",
        "  print(metric,metrics[metric])\n",
        "\n"
      ]
    },
    {
      "cell_type": "markdown",
      "source": [
        "# To use linear svm on breast cancer dataset ( 30 minutes)\n",
        "\n",
        "Task B.1 : Tweaking C values (hyper param) \n",
        "\n",
        "Observation B.1.1 : rbf Kernel\n",
        "\n",
        "1.   C=1 (default ) accuracy : 0.89\n",
        "2.   C=250 (custom) accuracy : 0.92\n",
        "\n",
        "Observation B.1.2 : poly Kernel\n",
        "\n",
        "1.   C=1 (default ) accuracy : 0.92\n",
        "2.   C=200 (custom) accuracy : 0.92\n",
        "\n",
        "Observation B.1.3 : sigmoid Kernel\n",
        "\n",
        "1.   C=1 (default ) accuracy : 0.50\n",
        "2.   C=200 (custom) accuracy : 0.46\n",
        "\n",
        "\n",
        "Task B.2 ( Exercise 2 ) : Accuracy precision and recall of model on breast cancer dadtaset\n",
        "\n",
        "tn :  40  , fp :  7  , fn :  1  , tp :  66\n",
        "\n",
        "accuracy 0.92\n",
        "\n",
        "precision 0.90\n",
        "\n",
        "recall 0.98\n"
      ],
      "metadata": {
        "id": "b86UxmDMMOaI"
      }
    },
    {
      "cell_type": "code",
      "source": [
        "from sklearn.datasets import load_breast_cancer\n",
        "from sklearn.svm import SVC\n",
        "from sklearn.model_selection import train_test_split\n",
        "from sklearn.metrics import accuracy_score,confusion_matrix\n",
        "\n",
        "def measures(y_true,y_pred):\n",
        "  cmat=confusion_matrix(y_true=y_test,y_pred=y_pred)\n",
        "  tn, fp, fn, tp=cmat.ravel()\n",
        "  print(\"tn : \",tn,\" , fp : \",fp,\" , fn : \",fn,\" , tp : \",tp)\n",
        "  return {\n",
        "      \"accuracy\":(tn+tp)/(tn+fp+fn+tp),\n",
        "      \"precision\":(tp)/(fp+tp),\n",
        "      \"recall\":(tp)/(fn+tp)\n",
        "  }\n",
        "  pass\n",
        "\n",
        "ds=load_breast_cancer()\n",
        "X=ds.data\n",
        "y=ds.target\n",
        "X_train,X_test,y_train,y_test=train_test_split(X,y,test_size=0.2,random_state=137)\n",
        "model=SVC(kernel=\"linear\",C=200).fit(X_train,y_train)\n",
        "\n",
        "y_pred=model.predict(X_test)\n",
        "\n",
        "metrics=measures(y_test,y_pred)\n",
        "\n",
        "for metric in metrics:\n",
        "  print(metric,metrics[metric])\n",
        "\n"
      ],
      "metadata": {
        "colab": {
          "base_uri": "https://localhost:8080/"
        },
        "id": "ISCsnrejMS6n",
        "outputId": "06232ec4-3635-480c-eebd-6bafb733143f"
      },
      "execution_count": null,
      "outputs": [
        {
          "output_type": "stream",
          "name": "stdout",
          "text": [
            "tn :  41  , fp :  6  , fn :  2  , tp :  65\n",
            "accuracy 0.9298245614035088\n",
            "precision 0.9154929577464789\n",
            "recall 0.9701492537313433\n"
          ]
        }
      ]
    },
    {
      "cell_type": "markdown",
      "source": [
        "# Exercise 1 : implement svm on MNIST dataset( 15 minutes) \n",
        "\n",
        "accuracy 0.98\n",
        "\n",
        "precision 0.98\n",
        "\n",
        "recall 0.98\n"
      ],
      "metadata": {
        "id": "bK-KbTuZSkhz"
      }
    },
    {
      "cell_type": "code",
      "source": [
        "from sklearn.datasets import load_digits\n",
        "from sklearn.svm import SVC\n",
        "from sklearn.model_selection import train_test_split\n",
        "from sklearn.metrics import accuracy_score,confusion_matrix,precision_score,recall_score\n",
        "\n",
        "def measures(y_true,y_pred):\n",
        "  return {\n",
        "      \"accuracy\":accuracy_score(y_test,y_pred),\n",
        "      \"precision\":precision_score(y_test,y_pred,average='micro'),\n",
        "      \"recall\":recall_score(y_test,y_pred,average='micro')\n",
        "  }\n",
        "  pass\n",
        "\n",
        "ds=load_digits()\n",
        "X=ds.data\n",
        "y=ds.target\n",
        "X_train,X_test,y_train,y_test=train_test_split(X,y,test_size=0.2,random_state=137)\n",
        "model=SVC(C=1,kernel=\"poly\").fit(X_train,y_train)\n",
        "y_pred=model.predict(X_test)\n",
        "\n",
        "metrics=measures(y_test,y_pred)\n",
        "\n",
        "for metric in metrics:\n",
        "  print(metric,metrics[metric])\n",
        "\n"
      ],
      "metadata": {
        "colab": {
          "base_uri": "https://localhost:8080/"
        },
        "id": "PpcQk0TlUNdL",
        "outputId": "3dd871cb-74ea-44b8-86ee-28764174edc9"
      },
      "execution_count": null,
      "outputs": [
        {
          "output_type": "stream",
          "name": "stdout",
          "text": [
            "accuracy 0.9861111111111112\n",
            "precision 0.9861111111111112\n",
            "recall 0.9861111111111112\n"
          ]
        }
      ]
    }
  ]
}